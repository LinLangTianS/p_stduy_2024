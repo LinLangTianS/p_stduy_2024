{
 "cells": [
  {
   "cell_type": "code",
   "execution_count": 52,
   "id": "aa655759",
   "metadata": {},
   "outputs": [],
   "source": [
    "import os\n",
    "import pandas as pd\n",
    "import numpy as np\n",
    "from os.path import join\n",
    "import seaborn as sns\n",
    "import matplotlib.pyplot as plt\n"
   ]
  },
  {
   "cell_type": "markdown",
   "id": "cec37020",
   "metadata": {},
   "source": [
    "# Q1：数据合并及清洗\n",
    "## 准备工作"
   ]
  },
  {
   "cell_type": "code",
   "execution_count": 53,
   "id": "f5cfaec8",
   "metadata": {},
   "outputs": [],
   "source": [
    "data_list = pd.DataFrame()\n",
    "header = pd.read_excel(r'header.xlsx', header = None)\n",
    "home_path = r'总成绩\\2020级'\n"
   ]
  },
  {
   "cell_type": "markdown",
   "id": "c363a66d",
   "metadata": {},
   "source": [
    "## Q1：数据的合并"
   ]
  },
  {
   "cell_type": "code",
   "execution_count": 54,
   "id": "0dffa8b7",
   "metadata": {},
   "outputs": [],
   "source": [
    "# 合并DataFrame\n",
    "for root, dirs,files in os.walk(home_path):\n",
    "    for file in files:\n",
    "        if file.endswith('.xls'):\n",
    "            path = join(root, file)\n",
    "            df = pd.read_excel(path, header = None)\n",
    "            df.drop(labels=[0,1], inplace=True)\n",
    "            df['数据来源'] = root[13:]\n",
    "            data_list = data_list.append(df)\n"
   ]
  },
  {
   "cell_type": "code",
   "execution_count": 55,
   "id": "066b2444",
   "metadata": {
    "scrolled": true
   },
   "outputs": [
    {
     "ename": "TypeError",
     "evalue": "data type '第8次考试' not understood",
     "output_type": "error",
     "traceback": [
      "\u001b[1;31m---------------------------------------------------------------------------\u001b[0m",
      "\u001b[1;31mTypeError\u001b[0m                                 Traceback (most recent call last)",
      "\u001b[1;32m<ipython-input-55-540b4dc598e2>\u001b[0m in \u001b[0;36m<module>\u001b[1;34m\u001b[0m\n\u001b[0;32m      1\u001b[0m \u001b[0mdata_list\u001b[0m\u001b[1;33m.\u001b[0m\u001b[0mcolumns\u001b[0m \u001b[1;33m=\u001b[0m \u001b[0mheader\u001b[0m\u001b[1;33m.\u001b[0m\u001b[0miloc\u001b[0m\u001b[1;33m[\u001b[0m\u001b[1;36m0\u001b[0m\u001b[1;33m]\u001b[0m\u001b[1;33m\u001b[0m\u001b[1;33m\u001b[0m\u001b[0m\n\u001b[0;32m      2\u001b[0m \u001b[0mdata_list\u001b[0m\u001b[1;33m.\u001b[0m\u001b[0mreset_index\u001b[0m\u001b[1;33m(\u001b[0m\u001b[0mdrop\u001b[0m\u001b[1;33m=\u001b[0m\u001b[1;32mTrue\u001b[0m\u001b[1;33m,\u001b[0m \u001b[0minplace\u001b[0m\u001b[1;33m=\u001b[0m\u001b[1;32mTrue\u001b[0m\u001b[1;33m)\u001b[0m\u001b[1;33m\u001b[0m\u001b[1;33m\u001b[0m\u001b[0m\n\u001b[1;32m----> 3\u001b[1;33m \u001b[0mdata_list\u001b[0m\u001b[1;33m[\u001b[0m\u001b[1;34m'学校代码'\u001b[0m\u001b[1;33m]\u001b[0m\u001b[1;33m.\u001b[0m\u001b[0mastype\u001b[0m\u001b[1;33m(\u001b[0m\u001b[0mstr\u001b[0m\u001b[1;33m)\u001b[0m\u001b[1;33m\u001b[0m\u001b[1;33m\u001b[0m\u001b[0m\n\u001b[0m\u001b[0;32m      4\u001b[0m \u001b[0mdata_list\u001b[0m\u001b[1;33m[\u001b[0m\u001b[1;34m'考号'\u001b[0m\u001b[1;33m]\u001b[0m\u001b[1;33m.\u001b[0m\u001b[0mastype\u001b[0m\u001b[1;33m(\u001b[0m\u001b[0mstr\u001b[0m\u001b[1;33m)\u001b[0m\u001b[1;33m\u001b[0m\u001b[1;33m\u001b[0m\u001b[0m\n\u001b[0;32m      5\u001b[0m \u001b[0mprint\u001b[0m\u001b[1;33m(\u001b[0m\u001b[0mdata_list\u001b[0m\u001b[1;33m)\u001b[0m\u001b[1;33m\u001b[0m\u001b[1;33m\u001b[0m\u001b[0m\n",
      "\u001b[1;32mD:\\application\\Anaconda3\\lib\\site-packages\\pandas\\core\\generic.py\u001b[0m in \u001b[0;36mastype\u001b[1;34m(self, dtype, copy, errors)\u001b[0m\n\u001b[0;32m   5875\u001b[0m         \u001b[1;32melse\u001b[0m\u001b[1;33m:\u001b[0m\u001b[1;33m\u001b[0m\u001b[1;33m\u001b[0m\u001b[0m\n\u001b[0;32m   5876\u001b[0m             \u001b[1;31m# else, only a single dtype is given\u001b[0m\u001b[1;33m\u001b[0m\u001b[1;33m\u001b[0m\u001b[1;33m\u001b[0m\u001b[0m\n\u001b[1;32m-> 5877\u001b[1;33m             \u001b[0mnew_data\u001b[0m \u001b[1;33m=\u001b[0m \u001b[0mself\u001b[0m\u001b[1;33m.\u001b[0m\u001b[0m_mgr\u001b[0m\u001b[1;33m.\u001b[0m\u001b[0mastype\u001b[0m\u001b[1;33m(\u001b[0m\u001b[0mdtype\u001b[0m\u001b[1;33m=\u001b[0m\u001b[0mdtype\u001b[0m\u001b[1;33m,\u001b[0m \u001b[0mcopy\u001b[0m\u001b[1;33m=\u001b[0m\u001b[0mcopy\u001b[0m\u001b[1;33m,\u001b[0m \u001b[0merrors\u001b[0m\u001b[1;33m=\u001b[0m\u001b[0merrors\u001b[0m\u001b[1;33m)\u001b[0m\u001b[1;33m\u001b[0m\u001b[1;33m\u001b[0m\u001b[0m\n\u001b[0m\u001b[0;32m   5878\u001b[0m             \u001b[1;32mreturn\u001b[0m \u001b[0mself\u001b[0m\u001b[1;33m.\u001b[0m\u001b[0m_constructor\u001b[0m\u001b[1;33m(\u001b[0m\u001b[0mnew_data\u001b[0m\u001b[1;33m)\u001b[0m\u001b[1;33m.\u001b[0m\u001b[0m__finalize__\u001b[0m\u001b[1;33m(\u001b[0m\u001b[0mself\u001b[0m\u001b[1;33m,\u001b[0m \u001b[0mmethod\u001b[0m\u001b[1;33m=\u001b[0m\u001b[1;34m\"astype\"\u001b[0m\u001b[1;33m)\u001b[0m\u001b[1;33m\u001b[0m\u001b[1;33m\u001b[0m\u001b[0m\n\u001b[0;32m   5879\u001b[0m \u001b[1;33m\u001b[0m\u001b[0m\n",
      "\u001b[1;32mD:\\application\\Anaconda3\\lib\\site-packages\\pandas\\core\\internals\\managers.py\u001b[0m in \u001b[0;36mastype\u001b[1;34m(self, dtype, copy, errors)\u001b[0m\n\u001b[0;32m    629\u001b[0m         \u001b[0mself\u001b[0m\u001b[1;33m,\u001b[0m \u001b[0mdtype\u001b[0m\u001b[1;33m,\u001b[0m \u001b[0mcopy\u001b[0m\u001b[1;33m:\u001b[0m \u001b[0mbool\u001b[0m \u001b[1;33m=\u001b[0m \u001b[1;32mFalse\u001b[0m\u001b[1;33m,\u001b[0m \u001b[0merrors\u001b[0m\u001b[1;33m:\u001b[0m \u001b[0mstr\u001b[0m \u001b[1;33m=\u001b[0m \u001b[1;34m\"raise\"\u001b[0m\u001b[1;33m\u001b[0m\u001b[1;33m\u001b[0m\u001b[0m\n\u001b[0;32m    630\u001b[0m     ) -> \"BlockManager\":\n\u001b[1;32m--> 631\u001b[1;33m         \u001b[1;32mreturn\u001b[0m \u001b[0mself\u001b[0m\u001b[1;33m.\u001b[0m\u001b[0mapply\u001b[0m\u001b[1;33m(\u001b[0m\u001b[1;34m\"astype\"\u001b[0m\u001b[1;33m,\u001b[0m \u001b[0mdtype\u001b[0m\u001b[1;33m=\u001b[0m\u001b[0mdtype\u001b[0m\u001b[1;33m,\u001b[0m \u001b[0mcopy\u001b[0m\u001b[1;33m=\u001b[0m\u001b[0mcopy\u001b[0m\u001b[1;33m,\u001b[0m \u001b[0merrors\u001b[0m\u001b[1;33m=\u001b[0m\u001b[0merrors\u001b[0m\u001b[1;33m)\u001b[0m\u001b[1;33m\u001b[0m\u001b[1;33m\u001b[0m\u001b[0m\n\u001b[0m\u001b[0;32m    632\u001b[0m \u001b[1;33m\u001b[0m\u001b[0m\n\u001b[0;32m    633\u001b[0m     def convert(\n",
      "\u001b[1;32mD:\\application\\Anaconda3\\lib\\site-packages\\pandas\\core\\internals\\managers.py\u001b[0m in \u001b[0;36mapply\u001b[1;34m(self, f, align_keys, ignore_failures, **kwargs)\u001b[0m\n\u001b[0;32m    425\u001b[0m                     \u001b[0mapplied\u001b[0m \u001b[1;33m=\u001b[0m \u001b[0mb\u001b[0m\u001b[1;33m.\u001b[0m\u001b[0mapply\u001b[0m\u001b[1;33m(\u001b[0m\u001b[0mf\u001b[0m\u001b[1;33m,\u001b[0m \u001b[1;33m**\u001b[0m\u001b[0mkwargs\u001b[0m\u001b[1;33m)\u001b[0m\u001b[1;33m\u001b[0m\u001b[1;33m\u001b[0m\u001b[0m\n\u001b[0;32m    426\u001b[0m                 \u001b[1;32melse\u001b[0m\u001b[1;33m:\u001b[0m\u001b[1;33m\u001b[0m\u001b[1;33m\u001b[0m\u001b[0m\n\u001b[1;32m--> 427\u001b[1;33m                     \u001b[0mapplied\u001b[0m \u001b[1;33m=\u001b[0m \u001b[0mgetattr\u001b[0m\u001b[1;33m(\u001b[0m\u001b[0mb\u001b[0m\u001b[1;33m,\u001b[0m \u001b[0mf\u001b[0m\u001b[1;33m)\u001b[0m\u001b[1;33m(\u001b[0m\u001b[1;33m**\u001b[0m\u001b[0mkwargs\u001b[0m\u001b[1;33m)\u001b[0m\u001b[1;33m\u001b[0m\u001b[1;33m\u001b[0m\u001b[0m\n\u001b[0m\u001b[0;32m    428\u001b[0m             \u001b[1;32mexcept\u001b[0m \u001b[1;33m(\u001b[0m\u001b[0mTypeError\u001b[0m\u001b[1;33m,\u001b[0m \u001b[0mNotImplementedError\u001b[0m\u001b[1;33m)\u001b[0m\u001b[1;33m:\u001b[0m\u001b[1;33m\u001b[0m\u001b[1;33m\u001b[0m\u001b[0m\n\u001b[0;32m    429\u001b[0m                 \u001b[1;32mif\u001b[0m \u001b[1;32mnot\u001b[0m \u001b[0mignore_failures\u001b[0m\u001b[1;33m:\u001b[0m\u001b[1;33m\u001b[0m\u001b[1;33m\u001b[0m\u001b[0m\n",
      "\u001b[1;32mD:\\application\\Anaconda3\\lib\\site-packages\\pandas\\core\\internals\\blocks.py\u001b[0m in \u001b[0;36mastype\u001b[1;34m(self, dtype, copy, errors)\u001b[0m\n\u001b[0;32m    624\u001b[0m \u001b[1;33m\u001b[0m\u001b[0m\n\u001b[0;32m    625\u001b[0m         \u001b[1;32mif\u001b[0m \u001b[0mdtype\u001b[0m \u001b[1;32mis\u001b[0m \u001b[1;32mnot\u001b[0m \u001b[1;32mNone\u001b[0m\u001b[1;33m:\u001b[0m\u001b[1;33m\u001b[0m\u001b[1;33m\u001b[0m\u001b[0m\n\u001b[1;32m--> 626\u001b[1;33m             \u001b[0mdtype\u001b[0m \u001b[1;33m=\u001b[0m \u001b[0mpandas_dtype\u001b[0m\u001b[1;33m(\u001b[0m\u001b[0mdtype\u001b[0m\u001b[1;33m)\u001b[0m\u001b[1;33m\u001b[0m\u001b[1;33m\u001b[0m\u001b[0m\n\u001b[0m\u001b[0;32m    627\u001b[0m \u001b[1;33m\u001b[0m\u001b[0m\n\u001b[0;32m    628\u001b[0m         \u001b[1;31m# may need to convert to categorical\u001b[0m\u001b[1;33m\u001b[0m\u001b[1;33m\u001b[0m\u001b[1;33m\u001b[0m\u001b[0m\n",
      "\u001b[1;32mD:\\application\\Anaconda3\\lib\\site-packages\\pandas\\core\\dtypes\\common.py\u001b[0m in \u001b[0;36mpandas_dtype\u001b[1;34m(dtype)\u001b[0m\n\u001b[0;32m   1797\u001b[0m     \u001b[1;31m# raise a consistent TypeError if failed\u001b[0m\u001b[1;33m\u001b[0m\u001b[1;33m\u001b[0m\u001b[1;33m\u001b[0m\u001b[0m\n\u001b[0;32m   1798\u001b[0m     \u001b[1;32mtry\u001b[0m\u001b[1;33m:\u001b[0m\u001b[1;33m\u001b[0m\u001b[1;33m\u001b[0m\u001b[0m\n\u001b[1;32m-> 1799\u001b[1;33m         \u001b[0mnpdtype\u001b[0m \u001b[1;33m=\u001b[0m \u001b[0mnp\u001b[0m\u001b[1;33m.\u001b[0m\u001b[0mdtype\u001b[0m\u001b[1;33m(\u001b[0m\u001b[0mdtype\u001b[0m\u001b[1;33m)\u001b[0m\u001b[1;33m\u001b[0m\u001b[1;33m\u001b[0m\u001b[0m\n\u001b[0m\u001b[0;32m   1800\u001b[0m     \u001b[1;32mexcept\u001b[0m \u001b[0mSyntaxError\u001b[0m \u001b[1;32mas\u001b[0m \u001b[0merr\u001b[0m\u001b[1;33m:\u001b[0m\u001b[1;33m\u001b[0m\u001b[1;33m\u001b[0m\u001b[0m\n\u001b[0;32m   1801\u001b[0m         \u001b[1;31m# np.dtype uses `eval` which can raise SyntaxError\u001b[0m\u001b[1;33m\u001b[0m\u001b[1;33m\u001b[0m\u001b[1;33m\u001b[0m\u001b[0m\n",
      "\u001b[1;31mTypeError\u001b[0m: data type '第8次考试' not understood"
     ]
    }
   ],
   "source": [
    "data_list.columns = header.iloc[0]\n",
    "data_list.reset_index(drop=True, inplace=True)\n",
    "data_list['学校代码'].astype(str)\n",
    "data_list['考号'].astype(str)\n",
    "print(data_list)"
   ]
  },
  {
   "cell_type": "code",
   "execution_count": 56,
   "id": "10047b7b",
   "metadata": {},
   "outputs": [],
   "source": [
    "data_list.to_excel('Q1_2020.xlsx',index=False) # 导出合并数据"
   ]
  },
  {
   "cell_type": "markdown",
   "id": "efb1c7e0",
   "metadata": {},
   "source": [
    "## Q1：数据的清洗"
   ]
  },
  {
   "cell_type": "code",
   "execution_count": 57,
   "id": "ff0e7cc4",
   "metadata": {
    "scrolled": true
   },
   "outputs": [
    {
     "name": "stdout",
     "output_type": "stream",
     "text": [
      "0\n",
      "学校代码        0\n",
      "学校          0\n",
      "班级          0\n",
      "考号          0\n",
      "姓名          0\n",
      "中考成绩      216\n",
      "中考区排名     327\n",
      "总分原始分       0\n",
      "总分等级分       0\n",
      "总分区排名       0\n",
      "语文成绩        0\n",
      "语文区排名       0\n",
      "数学成绩        0\n",
      "数学区排名       0\n",
      "英语成绩        0\n",
      "英语区排名       0\n",
      "物理成绩        0\n",
      "物理区排名       0\n",
      "物理等级分    4086\n",
      "化学成绩        0\n",
      "化学区排名       0\n",
      "化学等级分    4086\n",
      "生物成绩        0\n",
      "生物区排名       0\n",
      "生物等级分    4086\n",
      "历史成绩        0\n",
      "历史区排名       0\n",
      "历史等级分    4086\n",
      "地理成绩        0\n",
      "地理区排名       0\n",
      "地理等级分    4086\n",
      "政治成绩        0\n",
      "政治区排名       0\n",
      "政治等级分    4086\n",
      "上线情况      682\n",
      "数据来源        0\n",
      "dtype: int64\n",
      "0       False\n",
      "1       False\n",
      "2       False\n",
      "3       False\n",
      "4       False\n",
      "        ...  \n",
      "4081    False\n",
      "4082    False\n",
      "4083    False\n",
      "4084    False\n",
      "4085    False\n",
      "Name: 物理成绩, Length: 4086, dtype: bool\n"
     ]
    }
   ],
   "source": [
    "# 查看缺失值，以朝阳区2020-2021学年度高一第一学期期末考试学生成绩为例\n",
    "data1_1 = data_list[data_list['数据来源']=='朝阳区2020-2021学年度高一第一学期期末考试学生成绩']\n",
    "print(data1_1.isnull().sum())\n",
    "print(data1_1['物理成绩'].isnull())"
   ]
  },
  {
   "cell_type": "code",
   "execution_count": 58,
   "id": "aa03fd28",
   "metadata": {},
   "outputs": [
    {
     "data": {
      "text/plain": [
       "0       False\n",
       "1       False\n",
       "2       False\n",
       "3       False\n",
       "4       False\n",
       "        ...  \n",
       "4081    False\n",
       "4082    False\n",
       "4083    False\n",
       "4084    False\n",
       "4085    False\n",
       "Name: 考号, Length: 4086, dtype: bool"
      ]
     },
     "execution_count": 58,
     "metadata": {},
     "output_type": "execute_result"
    }
   ],
   "source": [
    "data1_1['考号'].duplicated(keep='first') #判断重复数据"
   ]
  },
  {
   "cell_type": "code",
   "execution_count": 59,
   "id": "18466358",
   "metadata": {},
   "outputs": [
    {
     "name": "stderr",
     "output_type": "stream",
     "text": [
      "D:\\application\\Anaconda3\\lib\\site-packages\\seaborn\\_decorators.py:36: FutureWarning: Pass the following variable as a keyword arg: x. From version 0.12, the only valid positional argument will be `data`, and passing other arguments without an explicit keyword will result in an error or misinterpretation.\n",
      "  warnings.warn(\n"
     ]
    },
    {
     "data": {
      "text/plain": [
       "<AxesSubplot:xlabel='总分原始分'>"
      ]
     },
     "execution_count": 59,
     "metadata": {},
     "output_type": "execute_result"
    },
    {
     "data": {
      "image/png": "[encoded data removed]",
      "text/plain": [
       "<Figure size 432x288 with 1 Axes>"
      ]
     },
     "metadata": {
      "needs_background": "light"
     },
     "output_type": "display_data"
    }
   ],
   "source": [
    "# 判断离群点\n",
    "# 箱线图\n",
    "plt.rcParams['font.sans-serif'] = ['SimHei']\n",
    "df = data1_1['总分原始分'].dropna(axis=0, how='any', inplace=False).astype(float)\n",
    "sns.boxplot(df)"
   ]
  },
  {
   "cell_type": "code",
   "execution_count": 60,
   "id": "aa1b54d3",
   "metadata": {
    "scrolled": true
   },
   "outputs": [
    {
     "data": {
      "text/plain": [
       "485     356.5\n",
       "925     333.0\n",
       "1856    341.0\n",
       "1926    976.5\n",
       "1927    961.5\n",
       "1928    960.5\n",
       "1929    956.5\n",
       "2225    972.0\n",
       "2913    303.5\n",
       "2954    359.0\n",
       "2955    354.0\n",
       "2956    346.5\n",
       "2957    260.0\n",
       "3011    388.0\n",
       "3064    397.5\n",
       "3065    390.5\n",
       "3066    384.5\n",
       "3067    375.5\n",
       "3094    366.5\n",
       "3119    393.5\n",
       "3120    381.0\n",
       "3121    379.5\n",
       "3122    363.5\n",
       "3149    391.5\n",
       "3150    375.0\n",
       "3151    369.0\n",
       "3152    356.5\n",
       "3175    397.5\n",
       "3176    387.0\n",
       "3177    292.5\n",
       "3178    250.0\n",
       "3207    392.5\n",
       "3208    349.0\n",
       "3234    396.5\n",
       "3235    388.5\n",
       "3236    370.5\n",
       "3555    396.0\n",
       "3556    389.5\n",
       "3596    389.0\n",
       "3634    397.5\n",
       "3635    392.0\n",
       "3874    389.0\n",
       "3997    394.0\n",
       "3998    393.0\n",
       "3999    320.0\n",
       "4021    380.5\n",
       "4042    393.5\n",
       "4043    374.5\n",
       "4044    321.5\n",
       "4064    391.5\n",
       "4065    377.0\n",
       "4085    384.0\n",
       "Name: 总分原始分, dtype: float64"
      ]
     },
     "execution_count": 60,
     "metadata": {},
     "output_type": "execute_result"
    }
   ],
   "source": [
    "# 检测离群点的Tukey‘s 方法\n",
    "# 定义K值\n",
    "K = 1.0\n",
    "\n",
    "# 计算四分位数\n",
    "Q1 = df.quantile(0.25)\n",
    "Q3 = df.quantile(0.75)\n",
    "\n",
    "# 计算IQR\n",
    "IQR = Q3 - Q1\n",
    "\n",
    "# 计算上限和下限\n",
    "low_limit = Q1 - K * IQR\n",
    "high_limit = Q3 + K * IQR\n",
    "\n",
    "# 找到超出上限和下限的值\n",
    "outliers = df[(df< low_limit) | (df > high_limit)]\n",
    "outliers"
   ]
  },
  {
   "cell_type": "markdown",
   "id": "a9c9cca3",
   "metadata": {},
   "source": [
    "# Q2：2020级成绩探索分析"
   ]
  },
  {
   "cell_type": "markdown",
   "id": "aa6afc71",
   "metadata": {},
   "source": [
    "## 子问题1：两类学生的数学成绩差异分析"
   ]
  },
  {
   "cell_type": "code",
   "execution_count": 61,
   "id": "f2a824ed",
   "metadata": {
    "scrolled": true
   },
   "outputs": [],
   "source": [
    "# 读取2020级学生数据并进行缺失值的清洗\n",
    "df = pd.read_excel('Q1_2020.xlsx')\n",
    "df['物理成绩'] = df['物理成绩'].dropna(axis=0, how='any', inplace=False).astype(float)\n",
    "df['化学成绩'] = df['化学成绩'].dropna(axis=0, how='any', inplace=False).astype(float)\n",
    "df_group = df.groupby('数据来源')"
   ]
  },
  {
   "cell_type": "code",
   "execution_count": 62,
   "id": "ad9938c3",
   "metadata": {},
   "outputs": [
    {
     "data": {
      "text/html": [
       "<div>\n",
       "<style scoped>\n",
       "    .dataframe tbody tr th:only-of-type {\n",
       "        vertical-align: middle;\n",
       "    }\n",
       "\n",
       "    .dataframe tbody tr th {\n",
       "        vertical-align: top;\n",
       "    }\n",
       "\n",
       "    .dataframe thead th {\n",
       "        text-align: right;\n",
       "    }\n",
       "</style>\n",
       "<table border=\"1\" class=\"dataframe\">\n",
       "  <thead>\n",
       "    <tr style=\"text-align: right;\">\n",
       "      <th></th>\n",
       "      <th>学校代码</th>\n",
       "      <th>学校</th>\n",
       "      <th>班级</th>\n",
       "      <th>考号</th>\n",
       "      <th>姓名</th>\n",
       "      <th>中考成绩</th>\n",
       "      <th>中考区排名</th>\n",
       "      <th>总分原始分</th>\n",
       "      <th>总分等级分</th>\n",
       "      <th>总分区排名</th>\n",
       "      <th>...</th>\n",
       "      <th>地理成绩</th>\n",
       "      <th>地理区排名</th>\n",
       "      <th>地理等级分</th>\n",
       "      <th>政治成绩</th>\n",
       "      <th>政治区排名</th>\n",
       "      <th>政治等级分</th>\n",
       "      <th>上线情况</th>\n",
       "      <th>数据来源</th>\n",
       "      <th>物理分中位数</th>\n",
       "      <th>化学分中位数</th>\n",
       "    </tr>\n",
       "  </thead>\n",
       "  <tbody>\n",
       "    <tr>\n",
       "      <th>0</th>\n",
       "      <td>5102</td>\n",
       "      <td>北京市日坛中学</td>\n",
       "      <td>1班</td>\n",
       "      <td>5102200109</td>\n",
       "      <td>刘梓宸</td>\n",
       "      <td>561.0</td>\n",
       "      <td>414.0</td>\n",
       "      <td>915.0</td>\n",
       "      <td>915.0</td>\n",
       "      <td>36</td>\n",
       "      <td>...</td>\n",
       "      <td>82.0</td>\n",
       "      <td>829.0</td>\n",
       "      <td>NaN</td>\n",
       "      <td>79.0</td>\n",
       "      <td>542.0</td>\n",
       "      <td>NaN</td>\n",
       "      <td>前50名上线</td>\n",
       "      <td>朝阳区2020-2021学年度高一第一学期期末考试学生成绩</td>\n",
       "      <td>48.0</td>\n",
       "      <td>55.0</td>\n",
       "    </tr>\n",
       "    <tr>\n",
       "      <th>1</th>\n",
       "      <td>5102</td>\n",
       "      <td>北京市日坛中学</td>\n",
       "      <td>1班</td>\n",
       "      <td>5102200113</td>\n",
       "      <td>王溥赵元</td>\n",
       "      <td>564.0</td>\n",
       "      <td>219.0</td>\n",
       "      <td>908.5</td>\n",
       "      <td>908.5</td>\n",
       "      <td>48</td>\n",
       "      <td>...</td>\n",
       "      <td>86.0</td>\n",
       "      <td>391.0</td>\n",
       "      <td>NaN</td>\n",
       "      <td>87.0</td>\n",
       "      <td>98.0</td>\n",
       "      <td>NaN</td>\n",
       "      <td>前50名上线</td>\n",
       "      <td>朝阳区2020-2021学年度高一第一学期期末考试学生成绩</td>\n",
       "      <td>48.0</td>\n",
       "      <td>55.0</td>\n",
       "    </tr>\n",
       "    <tr>\n",
       "      <th>2</th>\n",
       "      <td>5102</td>\n",
       "      <td>北京市日坛中学</td>\n",
       "      <td>1班</td>\n",
       "      <td>5102200119</td>\n",
       "      <td>姚宇</td>\n",
       "      <td>553.0</td>\n",
       "      <td>1006.0</td>\n",
       "      <td>861.0</td>\n",
       "      <td>861.0</td>\n",
       "      <td>226</td>\n",
       "      <td>...</td>\n",
       "      <td>88.0</td>\n",
       "      <td>229.0</td>\n",
       "      <td>NaN</td>\n",
       "      <td>76.0</td>\n",
       "      <td>798.0</td>\n",
       "      <td>NaN</td>\n",
       "      <td>前400名上线</td>\n",
       "      <td>朝阳区2020-2021学年度高一第一学期期末考试学生成绩</td>\n",
       "      <td>48.0</td>\n",
       "      <td>55.0</td>\n",
       "    </tr>\n",
       "    <tr>\n",
       "      <th>3</th>\n",
       "      <td>5102</td>\n",
       "      <td>北京市日坛中学</td>\n",
       "      <td>1班</td>\n",
       "      <td>5102200112</td>\n",
       "      <td>王基硕</td>\n",
       "      <td>557.0</td>\n",
       "      <td>706.0</td>\n",
       "      <td>857.0</td>\n",
       "      <td>857.0</td>\n",
       "      <td>251</td>\n",
       "      <td>...</td>\n",
       "      <td>84.0</td>\n",
       "      <td>585.0</td>\n",
       "      <td>NaN</td>\n",
       "      <td>74.0</td>\n",
       "      <td>1027.0</td>\n",
       "      <td>NaN</td>\n",
       "      <td>前400名上线</td>\n",
       "      <td>朝阳区2020-2021学年度高一第一学期期末考试学生成绩</td>\n",
       "      <td>48.0</td>\n",
       "      <td>55.0</td>\n",
       "    </tr>\n",
       "    <tr>\n",
       "      <th>4</th>\n",
       "      <td>5102</td>\n",
       "      <td>北京市日坛中学</td>\n",
       "      <td>1班</td>\n",
       "      <td>5102200115</td>\n",
       "      <td>王宇轩</td>\n",
       "      <td>560.0</td>\n",
       "      <td>497.0</td>\n",
       "      <td>853.0</td>\n",
       "      <td>853.0</td>\n",
       "      <td>274</td>\n",
       "      <td>...</td>\n",
       "      <td>90.0</td>\n",
       "      <td>111.0</td>\n",
       "      <td>NaN</td>\n",
       "      <td>73.0</td>\n",
       "      <td>1152.0</td>\n",
       "      <td>NaN</td>\n",
       "      <td>前400名上线</td>\n",
       "      <td>朝阳区2020-2021学年度高一第一学期期末考试学生成绩</td>\n",
       "      <td>48.0</td>\n",
       "      <td>55.0</td>\n",
       "    </tr>\n",
       "    <tr>\n",
       "      <th>...</th>\n",
       "      <td>...</td>\n",
       "      <td>...</td>\n",
       "      <td>...</td>\n",
       "      <td>...</td>\n",
       "      <td>...</td>\n",
       "      <td>...</td>\n",
       "      <td>...</td>\n",
       "      <td>...</td>\n",
       "      <td>...</td>\n",
       "      <td>...</td>\n",
       "      <td>...</td>\n",
       "      <td>...</td>\n",
       "      <td>...</td>\n",
       "      <td>...</td>\n",
       "      <td>...</td>\n",
       "      <td>...</td>\n",
       "      <td>...</td>\n",
       "      <td>...</td>\n",
       "      <td>...</td>\n",
       "      <td>...</td>\n",
       "      <td>...</td>\n",
       "    </tr>\n",
       "    <tr>\n",
       "      <th>34624</th>\n",
       "      <td>5322</td>\n",
       "      <td>中国科学院附属实验学校分校</td>\n",
       "      <td>2班</td>\n",
       "      <td>5322200212</td>\n",
       "      <td>黄岩煜</td>\n",
       "      <td>483.0</td>\n",
       "      <td>4105.0</td>\n",
       "      <td>298.5</td>\n",
       "      <td>323.5</td>\n",
       "      <td>4314</td>\n",
       "      <td>...</td>\n",
       "      <td>36.0</td>\n",
       "      <td>2507.0</td>\n",
       "      <td>43.0</td>\n",
       "      <td>58.0</td>\n",
       "      <td>1606.0</td>\n",
       "      <td>55.0</td>\n",
       "      <td>NaN</td>\n",
       "      <td>朝阳区2022-2023学年度高三第二学期二模考试学生成绩</td>\n",
       "      <td>63.0</td>\n",
       "      <td>64.0</td>\n",
       "    </tr>\n",
       "    <tr>\n",
       "      <th>34625</th>\n",
       "      <td>5322</td>\n",
       "      <td>中国科学院附属实验学校分校</td>\n",
       "      <td>2班</td>\n",
       "      <td>5322200213</td>\n",
       "      <td>吴空</td>\n",
       "      <td>485.0</td>\n",
       "      <td>4098.0</td>\n",
       "      <td>301.5</td>\n",
       "      <td>315.5</td>\n",
       "      <td>4328</td>\n",
       "      <td>...</td>\n",
       "      <td>41.0</td>\n",
       "      <td>2448.0</td>\n",
       "      <td>49.0</td>\n",
       "      <td>52.0</td>\n",
       "      <td>1755.0</td>\n",
       "      <td>49.0</td>\n",
       "      <td>NaN</td>\n",
       "      <td>朝阳区2022-2023学年度高三第二学期二模考试学生成绩</td>\n",
       "      <td>63.0</td>\n",
       "      <td>64.0</td>\n",
       "    </tr>\n",
       "    <tr>\n",
       "      <th>34626</th>\n",
       "      <td>5322</td>\n",
       "      <td>中国科学院附属实验学校分校</td>\n",
       "      <td>2班</td>\n",
       "      <td>5322200203</td>\n",
       "      <td>王汐林</td>\n",
       "      <td>NaN</td>\n",
       "      <td>NaN</td>\n",
       "      <td>273.5</td>\n",
       "      <td>315.5</td>\n",
       "      <td>4328</td>\n",
       "      <td>...</td>\n",
       "      <td>49.0</td>\n",
       "      <td>2271.0</td>\n",
       "      <td>55.0</td>\n",
       "      <td>NaN</td>\n",
       "      <td>NaN</td>\n",
       "      <td>NaN</td>\n",
       "      <td>NaN</td>\n",
       "      <td>朝阳区2022-2023学年度高三第二学期二模考试学生成绩</td>\n",
       "      <td>63.0</td>\n",
       "      <td>64.0</td>\n",
       "    </tr>\n",
       "    <tr>\n",
       "      <th>34627</th>\n",
       "      <td>5322</td>\n",
       "      <td>中国科学院附属实验学校分校</td>\n",
       "      <td>2班</td>\n",
       "      <td>5322200218</td>\n",
       "      <td>张浩</td>\n",
       "      <td>461.0</td>\n",
       "      <td>4147.0</td>\n",
       "      <td>265.0</td>\n",
       "      <td>281.0</td>\n",
       "      <td>4370</td>\n",
       "      <td>...</td>\n",
       "      <td>41.0</td>\n",
       "      <td>2448.0</td>\n",
       "      <td>49.0</td>\n",
       "      <td>51.0</td>\n",
       "      <td>1770.0</td>\n",
       "      <td>49.0</td>\n",
       "      <td>NaN</td>\n",
       "      <td>朝阳区2022-2023学年度高三第二学期二模考试学生成绩</td>\n",
       "      <td>63.0</td>\n",
       "      <td>64.0</td>\n",
       "    </tr>\n",
       "    <tr>\n",
       "      <th>34628</th>\n",
       "      <td>5322</td>\n",
       "      <td>中国科学院附属实验学校分校</td>\n",
       "      <td>2班</td>\n",
       "      <td>5322200216</td>\n",
       "      <td>霍歆羽</td>\n",
       "      <td>462.0</td>\n",
       "      <td>4144.0</td>\n",
       "      <td>247.5</td>\n",
       "      <td>280.5</td>\n",
       "      <td>4372</td>\n",
       "      <td>...</td>\n",
       "      <td>50.0</td>\n",
       "      <td>2232.0</td>\n",
       "      <td>55.0</td>\n",
       "      <td>NaN</td>\n",
       "      <td>NaN</td>\n",
       "      <td>NaN</td>\n",
       "      <td>NaN</td>\n",
       "      <td>朝阳区2022-2023学年度高三第二学期二模考试学生成绩</td>\n",
       "      <td>63.0</td>\n",
       "      <td>64.0</td>\n",
       "    </tr>\n",
       "  </tbody>\n",
       "</table>\n",
       "<p>34629 rows × 38 columns</p>\n",
       "</div>"
      ],
      "text/plain": [
       "       学校代码             学校  班级          考号    姓名   中考成绩   中考区排名  总分原始分  总分等级分  \\\n",
       "0      5102        北京市日坛中学  1班  5102200109   刘梓宸  561.0   414.0  915.0  915.0   \n",
       "1      5102        北京市日坛中学  1班  5102200113  王溥赵元  564.0   219.0  908.5  908.5   \n",
       "2      5102        北京市日坛中学  1班  5102200119    姚宇  553.0  1006.0  861.0  861.0   \n",
       "3      5102        北京市日坛中学  1班  5102200112   王基硕  557.0   706.0  857.0  857.0   \n",
       "4      5102        北京市日坛中学  1班  5102200115   王宇轩  560.0   497.0  853.0  853.0   \n",
       "...     ...            ...  ..         ...   ...    ...     ...    ...    ...   \n",
       "34624  5322  中国科学院附属实验学校分校  2班  5322200212   黄岩煜  483.0  4105.0  298.5  323.5   \n",
       "34625  5322  中国科学院附属实验学校分校  2班  5322200213    吴空  485.0  4098.0  301.5  315.5   \n",
       "34626  5322  中国科学院附属实验学校分校  2班  5322200203   王汐林    NaN     NaN  273.5  315.5   \n",
       "34627  5322  中国科学院附属实验学校分校  2班  5322200218    张浩  461.0  4147.0  265.0  281.0   \n",
       "34628  5322  中国科学院附属实验学校分校  2班  5322200216   霍歆羽  462.0  4144.0  247.5  280.5   \n",
       "\n",
       "       总分区排名  ...  地理成绩   地理区排名  地理等级分  政治成绩   政治区排名  政治等级分     上线情况  \\\n",
       "0         36  ...  82.0   829.0    NaN  79.0   542.0    NaN   前50名上线   \n",
       "1         48  ...  86.0   391.0    NaN  87.0    98.0    NaN   前50名上线   \n",
       "2        226  ...  88.0   229.0    NaN  76.0   798.0    NaN  前400名上线   \n",
       "3        251  ...  84.0   585.0    NaN  74.0  1027.0    NaN  前400名上线   \n",
       "4        274  ...  90.0   111.0    NaN  73.0  1152.0    NaN  前400名上线   \n",
       "...      ...  ...   ...     ...    ...   ...     ...    ...      ...   \n",
       "34624   4314  ...  36.0  2507.0   43.0  58.0  1606.0   55.0      NaN   \n",
       "34625   4328  ...  41.0  2448.0   49.0  52.0  1755.0   49.0      NaN   \n",
       "34626   4328  ...  49.0  2271.0   55.0   NaN     NaN    NaN      NaN   \n",
       "34627   4370  ...  41.0  2448.0   49.0  51.0  1770.0   49.0      NaN   \n",
       "34628   4372  ...  50.0  2232.0   55.0   NaN     NaN    NaN      NaN   \n",
       "\n",
       "                                数据来源  物理分中位数  化学分中位数  \n",
       "0      朝阳区2020-2021学年度高一第一学期期末考试学生成绩    48.0    55.0  \n",
       "1      朝阳区2020-2021学年度高一第一学期期末考试学生成绩    48.0    55.0  \n",
       "2      朝阳区2020-2021学年度高一第一学期期末考试学生成绩    48.0    55.0  \n",
       "3      朝阳区2020-2021学年度高一第一学期期末考试学生成绩    48.0    55.0  \n",
       "4      朝阳区2020-2021学年度高一第一学期期末考试学生成绩    48.0    55.0  \n",
       "...                              ...     ...     ...  \n",
       "34624  朝阳区2022-2023学年度高三第二学期二模考试学生成绩    63.0    64.0  \n",
       "34625  朝阳区2022-2023学年度高三第二学期二模考试学生成绩    63.0    64.0  \n",
       "34626  朝阳区2022-2023学年度高三第二学期二模考试学生成绩    63.0    64.0  \n",
       "34627  朝阳区2022-2023学年度高三第二学期二模考试学生成绩    63.0    64.0  \n",
       "34628  朝阳区2022-2023学年度高三第二学期二模考试学生成绩    63.0    64.0  \n",
       "\n",
       "[34629 rows x 38 columns]"
      ]
     },
     "execution_count": 62,
     "metadata": {},
     "output_type": "execute_result"
    }
   ],
   "source": [
    "# 生成物理、化学成绩中位数\n",
    "df['物理分中位数'] = df_group['物理成绩'].transform('median')\n",
    "df['化学分中位数'] = df_group['化学成绩'].transform('median')\n",
    "df"
   ]
  },
  {
   "cell_type": "code",
   "execution_count": 63,
   "id": "2303dd0c",
   "metadata": {},
   "outputs": [
    {
     "name": "stderr",
     "output_type": "stream",
     "text": [
      "<ipython-input-63-86db712c1859>:2: UserWarning: Boolean Series key will be reindexed to match DataFrame index.\n",
      "  df1 = df[df['化学成绩'] > df['化学分中位数']][df['物理成绩'] > df['物理分中位数']]\n",
      "<ipython-input-63-86db712c1859>:3: UserWarning: Boolean Series key will be reindexed to match DataFrame index.\n",
      "  df2 = df[df['化学成绩'] < df['化学分中位数']][df['物理成绩'] < df['物理分中位数']]\n"
     ]
    }
   ],
   "source": [
    "# 筛选出符合题意的两类数据\n",
    "df1 = df[df['化学成绩'] > df['化学分中位数']][df['物理成绩'] > df['物理分中位数']]\n",
    "df2 = df[df['化学成绩'] < df['化学分中位数']][df['物理成绩'] < df['物理分中位数']]"
   ]
  },
  {
   "cell_type": "code",
   "execution_count": 64,
   "id": "137dbf27",
   "metadata": {},
   "outputs": [],
   "source": [
    "# 计算数学平均分及其差异\n",
    "math_mean1 = df1.groupby('数据来源')[['数学成绩']].mean()\n",
    "math_mean2 = df2.groupby('数据来源')[['数学成绩']].mean()\n",
    "diff = math_mean1 - math_mean2"
   ]
  },
  {
   "cell_type": "code",
   "execution_count": 65,
   "id": "4324a3d7",
   "metadata": {},
   "outputs": [
    {
     "name": "stdout",
     "output_type": "stream",
     "text": [
      "每次考试物理考试成绩前50%和化学前50%的数学平均分为\n",
      "                                     数学成绩\n",
      "数据来源                                     \n",
      "朝阳区2020-2021学年度高一第一学期期末考试学生成绩  110.801713\n",
      "朝阳区2020-2021学年度高一第二学期期末考试学生成绩  116.146944\n",
      "朝阳区2021-2022学年度高二第一学期期末考试学生成绩  111.563553\n",
      "朝阳区2021-2022学年度高二第二学期期末考试学生成绩  115.957265\n",
      "朝阳区2022-2023学年度高三第一学期期中考试学生成绩  118.662393\n",
      "朝阳区2022-2023学年度高三第一学期期末考试学生成绩  121.602740\n",
      "朝阳区2022-2023学年度高三第二学期一模考试学生成绩  116.241620\n",
      "朝阳区2022-2023学年度高三第二学期二模考试学生成绩  118.925000\n",
      "-------------------------------------------------------------------\n",
      "每次考试物理考试成绩后50%和化学后50%的数学平均分为\n",
      "                                    数学成绩\n",
      "数据来源                                    \n",
      "朝阳区2020-2021学年度高一第一学期期末考试学生成绩  63.026918\n",
      "朝阳区2020-2021学年度高一第二学期期末考试学生成绩  81.882353\n",
      "朝阳区2021-2022学年度高二第一学期期末考试学生成绩  77.920765\n",
      "朝阳区2021-2022学年度高二第二学期期末考试学生成绩  83.655738\n",
      "朝阳区2022-2023学年度高三第一学期期中考试学生成绩  89.809645\n",
      "朝阳区2022-2023学年度高三第一学期期末考试学生成绩  93.775309\n",
      "朝阳区2022-2023学年度高三第二学期一模考试学生成绩  83.519722\n",
      "朝阳区2022-2023学年度高三第二学期二模考试学生成绩  93.421569\n",
      "-------------------------------------------------------------------\n",
      "差异为\n",
      "                                    数学成绩\n",
      "数据来源                                    \n",
      "朝阳区2020-2021学年度高一第一学期期末考试学生成绩  47.774795\n",
      "朝阳区2020-2021学年度高一第二学期期末考试学生成绩  34.264591\n",
      "朝阳区2021-2022学年度高二第一学期期末考试学生成绩  33.642788\n",
      "朝阳区2021-2022学年度高二第二学期期末考试学生成绩  32.301527\n",
      "朝阳区2022-2023学年度高三第一学期期中考试学生成绩  28.852748\n",
      "朝阳区2022-2023学年度高三第一学期期末考试学生成绩  27.827431\n",
      "朝阳区2022-2023学年度高三第二学期一模考试学生成绩  32.721899\n",
      "朝阳区2022-2023学年度高三第二学期二模考试学生成绩  25.503431分\n"
     ]
    }
   ],
   "source": [
    "# 打印结果\n",
    "print(f'每次考试物理考试成绩前50%和化学前50%的数学平均分为\\n{math_mean1}')\n",
    "print('-------------------------------------------------------------------')\n",
    "print(f'每次考试物理考试成绩后50%和化学后50%的数学平均分为\\n{math_mean2}')\n",
    "print('-------------------------------------------------------------------')\n",
    "print(f'差异为\\n{diff}分')"
   ]
  },
  {
   "cell_type": "markdown",
   "id": "17f7275f",
   "metadata": {},
   "source": [
    "## 子问题2：两类学生的语文成绩分布可视化"
   ]
  },
  {
   "cell_type": "code",
   "execution_count": 66,
   "id": "8305728b",
   "metadata": {},
   "outputs": [
    {
     "data": {
      "text/plain": [
       "<matplotlib.legend.Legend at 0x25549d22130>"
      ]
     },
     "execution_count": 66,
     "metadata": {},
     "output_type": "execute_result"
    },
    {
     "data": {
      "image/png": "[encoded data removed]",
      "text/plain": [
       "<Figure size 432x288 with 1 Axes>"
      ]
     },
     "metadata": {
      "needs_background": "light"
     },
     "output_type": "display_data"
    }
   ],
   "source": [
    "#绘制语文平均分的并列条形图\n",
    "n_groups = 8\n",
    "index = np.arange(n_groups)\n",
    "plt.bar(index,df1.groupby('数据来源')['语文成绩'].mean(), width=0.2, color='g', label='物化成绩较好')    \n",
    "plt.bar(index+0.2, df2.groupby('数据来源')['语文成绩'].mean(), width=0.2, color ='b', label='物化成绩较差')\n",
    "plt.xticks(index+0.1,index)\n",
    "plt.title('两类学生的语文成绩分布可视化')\n",
    "plt.legend()\n"
   ]
  },
  {
   "cell_type": "code",
   "execution_count": 67,
   "id": "bb3f6a34",
   "metadata": {},
   "outputs": [
    {
     "data": {
      "application/vnd.jupyter.widget-view+json": {
       "model_id": "2c150de8f6d0476db71d22cca5b4550b",
       "version_major": 2,
       "version_minor": 0
      },
      "text/plain": [
       "Box(children=(HTML(value='\\n<div id=\"ifr-pyg-000621eacc0f569bEgBkODA79oyexd5l\" style=\"height: auto\">\\n    <hea…"
      ]
     },
     "metadata": {},
     "output_type": "display_data"
    },
    {
     "data": {
      "text/html": [
       "<script>\n",
       "    window.addEventListener(\"message\", function(event) {\n",
       "        const backgroundMap = {\n",
       "            \"dark\": \"hsl(240 10% 3.9%)\",\n",
       "            \"light\": \"hsl(0 0 100%)\",\n",
       "        };\n",
       "        const colorMap = {\n",
       "            \"dark\": \"hsl(0 0% 98%)\",\n",
       "            \"light\": \"hsl(240 10% 3.9%)\",\n",
       "        };\n",
       "        if (event.data.action === \"changeAppearance\" && event.data.gid === \"000621eacc0f569bEgBkODA79oyexd5l\") {\n",
       "            var iframe = document.getElementById(\"gwalker-000621eacc0f569bEgBkODA79oyexd5l\");\n",
       "            iframe.style.background  = backgroundMap[event.data.appearance];\n",
       "            iframe.style.color = colorMap[event.data.appearance];\n",
       "        }\n",
       "    });\n",
       "</script>"
      ],
      "text/plain": [
       "<IPython.core.display.HTML object>"
      ]
     },
     "metadata": {},
     "output_type": "display_data"
    },
    {
     "data": {
      "text/html": [],
      "text/plain": [
       "<IPython.core.display.HTML object>"
      ]
     },
     "metadata": {},
     "output_type": "display_data"
    }
   ],
   "source": [
    "# 采用pygwalker库进行数据交互\n",
    "import pygwalker as pyg\n",
    "\n",
    "df1['分组'] = '物化成绩较好'\n",
    "df2['分组'] = '物化成绩较差'\n",
    "df3 = pd.concat([df1, df2])\n",
    "gwalker = pyg.walk(df3)"
   ]
  },
  {
   "cell_type": "markdown",
   "id": "286074d7",
   "metadata": {},
   "source": [
    "# Q3：2020级学生的高三第二学期二模考试成绩预测"
   ]
  },
  {
   "cell_type": "code",
   "execution_count": 68,
   "id": "0f71420d",
   "metadata": {},
   "outputs": [],
   "source": [
    "df_2020 = pd.read_excel('Q1_2020.xlsx')"
   ]
  },
  {
   "cell_type": "code",
   "execution_count": 69,
   "id": "09e10213",
   "metadata": {},
   "outputs": [],
   "source": [
    "data = df_2020.groupby(['考号','数据来源'])"
   ]
  },
  {
   "cell_type": "code",
   "execution_count": 70,
   "id": "c5a21867",
   "metadata": {},
   "outputs": [
    {
     "data": {
      "text/plain": [
       "\"\\ndf = pd.DataFrame()\\nfor x, y in data: \\n    df['考号'] = x[0]\\n    for i in range(len(y)):\\n        str = f'第{i}次考试'\\n        df[str] = y[i]\\n\""
      ]
     },
     "execution_count": 70,
     "metadata": {},
     "output_type": "execute_result"
    }
   ],
   "source": [
    "'''\n",
    "df = pd.DataFrame()\n",
    "for x, y in data: \n",
    "    df['考号'] = x[0]\n",
    "    for i in range(len(y)):\n",
    "        str = f'第{i}次考试'\n",
    "        df[str] = y[i]\n",
    "'''\n"
   ]
  },
  {
   "cell_type": "code",
   "execution_count": null,
   "id": "f6610667",
   "metadata": {},
   "outputs": [],
   "source": []
  },
  {
   "cell_type": "markdown",
   "id": "d8e3c274",
   "metadata": {},
   "source": [
    "# Q4：数据的查找"
   ]
  },
  {
   "cell_type": "markdown",
   "id": "8e87050d",
   "metadata": {},
   "source": [
    "## 2019届学生中北京第二外国语学院附属中学与北京市陈经纶中学的总分趋势对比"
   ]
  },
  {
   "cell_type": "code",
   "execution_count": 71,
   "id": "f8056a7e",
   "metadata": {},
   "outputs": [
    {
     "name": "stdout",
     "output_type": "stream",
     "text": [
      "         学校代码              学校  班级            考号   姓名    中考 Unnamed: 6      总分  \\\n",
      "0      5267.0  东北师范大学附属中学朝阳学校  1班  5.267190e+09  张可琪   533       1490     809   \n",
      "1      5267.0  东北师范大学附属中学朝阳学校  1班  5.267190e+09   佟鑫   527       1219     794   \n",
      "2      5267.0  东北师范大学附属中学朝阳学校  1班  5.267190e+09  李恩铭   529       1219   775.5   \n",
      "3      5267.0  东北师范大学附属中学朝阳学校  1班  5.267190e+09  何路橼   524       1446   768.5   \n",
      "4      5267.0  东北师范大学附属中学朝阳学校  1班  5.267190e+09  张迎新   528        752     766   \n",
      "...       ...             ...  ..           ...  ...   ...        ...     ...   \n",
      "25778  5266.0      黄冈中学北京朝阳学校  4班  5.266190e+09  杨美琦   496       2967     392   \n",
      "25779  5266.0      黄冈中学北京朝阳学校  4班  5.266190e+09  霍金硙   503       2830     385   \n",
      "25780  5266.0      黄冈中学北京朝阳学校  4班  5.266190e+09  李悦晗   489       3065   369.5   \n",
      "25781  5266.0      黄冈中学北京朝阳学校  4班  5.266190e+09   王媛   494       3010     364   \n",
      "25782  5266.0      黄冈中学北京朝阳学校  4班  5.266190e+09  李小茵   491       3047   331.5   \n",
      "\n",
      "                                数据来源  \n",
      "0      朝阳区2019-2020学年度高一第一学期期末考试学生成绩  \n",
      "1      朝阳区2019-2020学年度高一第一学期期末考试学生成绩  \n",
      "2      朝阳区2019-2020学年度高一第一学期期末考试学生成绩  \n",
      "3      朝阳区2019-2020学年度高一第一学期期末考试学生成绩  \n",
      "4      朝阳区2019-2020学年度高一第一学期期末考试学生成绩  \n",
      "...                              ...  \n",
      "25778  朝阳区2021-2022学年度高三第二学期二模考试学生成绩  \n",
      "25779  朝阳区2021-2022学年度高三第二学期二模考试学生成绩  \n",
      "25780  朝阳区2021-2022学年度高三第二学期二模考试学生成绩  \n",
      "25781  朝阳区2021-2022学年度高三第二学期二模考试学生成绩  \n",
      "25782  朝阳区2021-2022学年度高三第二学期二模考试学生成绩  \n",
      "\n",
      "[25783 rows x 9 columns]\n"
     ]
    }
   ],
   "source": [
    "# 提取2019级的所有数据并汇总\n",
    "data_2019 = pd.DataFrame()\n",
    "header = pd.read_excel(r'header.xlsx', header = None)\n",
    "home_path = r'总成绩\\2019级'\n",
    "\n",
    "# 合并DataFrame\n",
    "for root, dirs,files in os.walk(home_path):\n",
    "    for file in files:\n",
    "        if file.endswith('.xls'):\n",
    "            path = join(root, file)\n",
    "            df = pd.read_excel(path)\n",
    "            df = df.iloc[1: , :8]\n",
    "            df['数据来源'] = root[13:]\n",
    "            data_2019 = data_2019.append(df)\n",
    "\n",
    "data_2019.reset_index(drop=True, inplace=True)\n",
    "print(data_2019)"
   ]
  },
  {
   "cell_type": "code",
   "execution_count": 72,
   "id": "28ba8f1c",
   "metadata": {},
   "outputs": [],
   "source": [
    "# 提取两所中学的各项数据\n",
    "df1 = data_2019[data_2019['学校'] == '北京第二外国语学院附属中学']\n",
    "df2 = data_2019[data_2019['学校'] == '北京市陈经纶中学']\n"
   ]
  },
  {
   "cell_type": "markdown",
   "id": "f76525b0",
   "metadata": {},
   "source": [
    "## 分别找出2019届学生中高一期中、高一期末、高一期中、高二期末总分平均分最高的学校"
   ]
  },
  {
   "cell_type": "code",
   "execution_count": 73,
   "id": "053d32ff",
   "metadata": {},
   "outputs": [],
   "source": [
    "# 筛选出总分非Nan值的数据\n",
    "data_2019['总分'] = data_2019['总分'].dropna(axis=0, how='any', inplace=False).astype(float)\n",
    "data_2019['总分平均分'] = data_2019.groupby('数据来源')['总分'].transform('mean')\n",
    "data_2019['总分平均分'] = data_2019['总分平均分'].drop_duplicates(keep='first') \n"
   ]
  },
  {
   "cell_type": "code",
   "execution_count": 74,
   "id": "d309ff2a",
   "metadata": {},
   "outputs": [
    {
     "data": {
      "text/html": [
       "<div>\n",
       "<style scoped>\n",
       "    .dataframe tbody tr th:only-of-type {\n",
       "        vertical-align: middle;\n",
       "    }\n",
       "\n",
       "    .dataframe tbody tr th {\n",
       "        vertical-align: top;\n",
       "    }\n",
       "\n",
       "    .dataframe thead th {\n",
       "        text-align: right;\n",
       "    }\n",
       "</style>\n",
       "<table border=\"1\" class=\"dataframe\">\n",
       "  <thead>\n",
       "    <tr style=\"text-align: right;\">\n",
       "      <th></th>\n",
       "      <th>学校代码</th>\n",
       "      <th>学校</th>\n",
       "      <th>班级</th>\n",
       "      <th>考号</th>\n",
       "      <th>姓名</th>\n",
       "      <th>中考</th>\n",
       "      <th>Unnamed: 6</th>\n",
       "      <th>总分</th>\n",
       "      <th>数据来源</th>\n",
       "      <th>总分平均分</th>\n",
       "    </tr>\n",
       "  </thead>\n",
       "  <tbody>\n",
       "    <tr>\n",
       "      <th>0</th>\n",
       "      <td>5267.0</td>\n",
       "      <td>东北师范大学附属中学朝阳学校</td>\n",
       "      <td>1班</td>\n",
       "      <td>5.267190e+09</td>\n",
       "      <td>张可琪</td>\n",
       "      <td>533</td>\n",
       "      <td>1490</td>\n",
       "      <td>809.0</td>\n",
       "      <td>朝阳区2019-2020学年度高一第一学期期末考试学生成绩</td>\n",
       "      <td>686.922590</td>\n",
       "    </tr>\n",
       "    <tr>\n",
       "      <th>2842</th>\n",
       "      <td>5267.0</td>\n",
       "      <td>东北师范大学附属中学朝阳学校</td>\n",
       "      <td>1班</td>\n",
       "      <td>5.267190e+09</td>\n",
       "      <td>张怡然</td>\n",
       "      <td>526</td>\n",
       "      <td>1604</td>\n",
       "      <td>942.0</td>\n",
       "      <td>朝阳区2019-2020学年度高一第二学期期末考试学生成绩</td>\n",
       "      <td>796.196035</td>\n",
       "    </tr>\n",
       "    <tr>\n",
       "      <th>5793</th>\n",
       "      <td>5267.0</td>\n",
       "      <td>东北师范大学附属中学朝阳学校</td>\n",
       "      <td>1班</td>\n",
       "      <td>5.267190e+09</td>\n",
       "      <td>赵凯</td>\n",
       "      <td>524</td>\n",
       "      <td>1768</td>\n",
       "      <td>614.0</td>\n",
       "      <td>朝阳区2020-2021学年度高二第一学期期末考试学生成绩</td>\n",
       "      <td>479.771819</td>\n",
       "    </tr>\n",
       "    <tr>\n",
       "      <th>9047</th>\n",
       "      <td>5267.0</td>\n",
       "      <td>东北师范大学附属中学朝阳学校</td>\n",
       "      <td>1班</td>\n",
       "      <td>5.267190e+09</td>\n",
       "      <td>李佳</td>\n",
       "      <td>538</td>\n",
       "      <td>1489</td>\n",
       "      <td>603.5</td>\n",
       "      <td>朝阳区2020-2021学年度高二第二学期期末考试学生成绩</td>\n",
       "      <td>497.455282</td>\n",
       "    </tr>\n",
       "    <tr>\n",
       "      <th>12502</th>\n",
       "      <td>5267.0</td>\n",
       "      <td>东北师范大学附属中学朝阳学校</td>\n",
       "      <td>1班</td>\n",
       "      <td>5.267190e+09</td>\n",
       "      <td>张轶涵</td>\n",
       "      <td>546</td>\n",
       "      <td>646</td>\n",
       "      <td>597.0</td>\n",
       "      <td>朝阳区2021-2022学年度高三第一学期期中考试学生成绩</td>\n",
       "      <td>464.835480</td>\n",
       "    </tr>\n",
       "    <tr>\n",
       "      <th>15763</th>\n",
       "      <td>5267.0</td>\n",
       "      <td>东北师范大学附属中学朝阳学校</td>\n",
       "      <td>1班</td>\n",
       "      <td>5.267190e+09</td>\n",
       "      <td>张轶涵</td>\n",
       "      <td>546</td>\n",
       "      <td>644</td>\n",
       "      <td>610.0</td>\n",
       "      <td>朝阳区2021-2022学年度高三第一学期期末考试学生成绩</td>\n",
       "      <td>492.850960</td>\n",
       "    </tr>\n",
       "    <tr>\n",
       "      <th>19044</th>\n",
       "      <td>5267.0</td>\n",
       "      <td>东北师范大学附属中学朝阳学校</td>\n",
       "      <td>1班</td>\n",
       "      <td>5.267190e+09</td>\n",
       "      <td>赵凯</td>\n",
       "      <td>524</td>\n",
       "      <td>1983</td>\n",
       "      <td>614.0</td>\n",
       "      <td>朝阳区2021-2022学年度高三第二学期一模考试学生成绩</td>\n",
       "      <td>479.835556</td>\n",
       "    </tr>\n",
       "    <tr>\n",
       "      <th>22419</th>\n",
       "      <td>5267.0</td>\n",
       "      <td>东北师范大学附属中学朝阳学校</td>\n",
       "      <td>1班</td>\n",
       "      <td>5.267190e+09</td>\n",
       "      <td>张轶涵</td>\n",
       "      <td>546</td>\n",
       "      <td>658</td>\n",
       "      <td>592.0</td>\n",
       "      <td>朝阳区2021-2022学年度高三第二学期二模考试学生成绩</td>\n",
       "      <td>512.535226</td>\n",
       "    </tr>\n",
       "  </tbody>\n",
       "</table>\n",
       "</div>"
      ],
      "text/plain": [
       "         学校代码              学校  班级            考号   姓名    中考 Unnamed: 6     总分  \\\n",
       "0      5267.0  东北师范大学附属中学朝阳学校  1班  5.267190e+09  张可琪   533       1490  809.0   \n",
       "2842   5267.0  东北师范大学附属中学朝阳学校  1班  5.267190e+09  张怡然   526       1604  942.0   \n",
       "5793   5267.0  东北师范大学附属中学朝阳学校  1班  5.267190e+09   赵凯   524       1768  614.0   \n",
       "9047   5267.0  东北师范大学附属中学朝阳学校  1班  5.267190e+09   李佳   538       1489  603.5   \n",
       "12502  5267.0  东北师范大学附属中学朝阳学校  1班  5.267190e+09  张轶涵   546        646  597.0   \n",
       "15763  5267.0  东北师范大学附属中学朝阳学校  1班  5.267190e+09  张轶涵   546        644  610.0   \n",
       "19044  5267.0  东北师范大学附属中学朝阳学校  1班  5.267190e+09   赵凯   524       1983  614.0   \n",
       "22419  5267.0  东北师范大学附属中学朝阳学校  1班  5.267190e+09  张轶涵   546        658  592.0   \n",
       "\n",
       "                                数据来源       总分平均分  \n",
       "0      朝阳区2019-2020学年度高一第一学期期末考试学生成绩  686.922590  \n",
       "2842   朝阳区2019-2020学年度高一第二学期期末考试学生成绩  796.196035  \n",
       "5793   朝阳区2020-2021学年度高二第一学期期末考试学生成绩  479.771819  \n",
       "9047   朝阳区2020-2021学年度高二第二学期期末考试学生成绩  497.455282  \n",
       "12502  朝阳区2021-2022学年度高三第一学期期中考试学生成绩  464.835480  \n",
       "15763  朝阳区2021-2022学年度高三第一学期期末考试学生成绩  492.850960  \n",
       "19044  朝阳区2021-2022学年度高三第二学期一模考试学生成绩  479.835556  \n",
       "22419  朝阳区2021-2022学年度高三第二学期二模考试学生成绩  512.535226  "
      ]
     },
     "execution_count": 74,
     "metadata": {},
     "output_type": "execute_result"
    }
   ],
   "source": [
    "# 找出各考试平均总分最高的中学\n",
    "idx = data_2019.groupby('数据来源')['总分平均分'].transform('max') == data_2019['总分平均分']\n",
    "data_2019[idx]"
   ]
  },
  {
   "cell_type": "code",
   "execution_count": null,
   "id": "39bfa407",
   "metadata": {},
   "outputs": [],
   "source": []
  },
  {
   "cell_type": "markdown",
   "id": "61c0e11b",
   "metadata": {},
   "source": [
    "## 找出高三上期中、高三上期末、高三下一模、高三下二模中总分状元分别属于哪所学校?"
   ]
  },
  {
   "cell_type": "code",
   "execution_count": 75,
   "id": "ffe60f63",
   "metadata": {},
   "outputs": [
    {
     "data": {
      "text/html": [
       "<div>\n",
       "<style scoped>\n",
       "    .dataframe tbody tr th:only-of-type {\n",
       "        vertical-align: middle;\n",
       "    }\n",
       "\n",
       "    .dataframe tbody tr th {\n",
       "        vertical-align: top;\n",
       "    }\n",
       "\n",
       "    .dataframe thead th {\n",
       "        text-align: right;\n",
       "    }\n",
       "</style>\n",
       "<table border=\"1\" class=\"dataframe\">\n",
       "  <thead>\n",
       "    <tr style=\"text-align: right;\">\n",
       "      <th></th>\n",
       "      <th>学校代码</th>\n",
       "      <th>学校</th>\n",
       "      <th>班级</th>\n",
       "      <th>考号</th>\n",
       "      <th>姓名</th>\n",
       "      <th>中考</th>\n",
       "      <th>Unnamed: 6</th>\n",
       "      <th>总分</th>\n",
       "      <th>数据来源</th>\n",
       "      <th>总分平均分</th>\n",
       "    </tr>\n",
       "  </thead>\n",
       "  <tbody>\n",
       "    <tr>\n",
       "      <th>2241</th>\n",
       "      <td>5108.0</td>\n",
       "      <td>朝阳外国语学校</td>\n",
       "      <td>1班</td>\n",
       "      <td>5.108190e+09</td>\n",
       "      <td>张欣睿</td>\n",
       "      <td>563</td>\n",
       "      <td>3</td>\n",
       "      <td>962.0</td>\n",
       "      <td>朝阳区2019-2020学年度高一第一学期期末考试学生成绩</td>\n",
       "      <td>NaN</td>\n",
       "    </tr>\n",
       "    <tr>\n",
       "      <th>5187</th>\n",
       "      <td>5108.0</td>\n",
       "      <td>朝阳外国语学校</td>\n",
       "      <td>1班</td>\n",
       "      <td>5.108190e+09</td>\n",
       "      <td>项玢钰</td>\n",
       "      <td>551</td>\n",
       "      <td>104</td>\n",
       "      <td>1007.5</td>\n",
       "      <td>朝阳区2019-2020学年度高一第二学期期末考试学生成绩</td>\n",
       "      <td>NaN</td>\n",
       "    </tr>\n",
       "    <tr>\n",
       "      <th>6004</th>\n",
       "      <td>5199.0</td>\n",
       "      <td>北京中学</td>\n",
       "      <td>1班</td>\n",
       "      <td>5.199190e+09</td>\n",
       "      <td>秦翔宇</td>\n",
       "      <td>NaN</td>\n",
       "      <td>NaN</td>\n",
       "      <td>700.0</td>\n",
       "      <td>朝阳区2020-2021学年度高二第一学期期末考试学生成绩</td>\n",
       "      <td>NaN</td>\n",
       "    </tr>\n",
       "    <tr>\n",
       "      <th>9471</th>\n",
       "      <td>5199.0</td>\n",
       "      <td>北京中学</td>\n",
       "      <td>1班</td>\n",
       "      <td>5.199190e+09</td>\n",
       "      <td>秦翔宇</td>\n",
       "      <td>NaN</td>\n",
       "      <td>NaN</td>\n",
       "      <td>699.0</td>\n",
       "      <td>朝阳区2020-2021学年度高二第二学期期末考试学生成绩</td>\n",
       "      <td>NaN</td>\n",
       "    </tr>\n",
       "    <tr>\n",
       "      <th>12910</th>\n",
       "      <td>5199.0</td>\n",
       "      <td>北京中学</td>\n",
       "      <td>1班</td>\n",
       "      <td>5.199190e+09</td>\n",
       "      <td>李静莹</td>\n",
       "      <td>NaN</td>\n",
       "      <td>NaN</td>\n",
       "      <td>684.5</td>\n",
       "      <td>朝阳区2021-2022学年度高三第一学期期中考试学生成绩</td>\n",
       "      <td>NaN</td>\n",
       "    </tr>\n",
       "    <tr>\n",
       "      <th>16143</th>\n",
       "      <td>5199.0</td>\n",
       "      <td>北京中学</td>\n",
       "      <td>1班</td>\n",
       "      <td>5.199190e+09</td>\n",
       "      <td>秦翔宇</td>\n",
       "      <td>NaN</td>\n",
       "      <td>NaN</td>\n",
       "      <td>708.0</td>\n",
       "      <td>朝阳区2021-2022学年度高三第一学期期末考试学生成绩</td>\n",
       "      <td>NaN</td>\n",
       "    </tr>\n",
       "    <tr>\n",
       "      <th>19463</th>\n",
       "      <td>5199.0</td>\n",
       "      <td>北京中学</td>\n",
       "      <td>1班</td>\n",
       "      <td>5.199190e+09</td>\n",
       "      <td>秦翔宇</td>\n",
       "      <td>NaN</td>\n",
       "      <td>NaN</td>\n",
       "      <td>705.0</td>\n",
       "      <td>朝阳区2021-2022学年度高三第二学期一模考试学生成绩</td>\n",
       "      <td>NaN</td>\n",
       "    </tr>\n",
       "    <tr>\n",
       "      <th>23926</th>\n",
       "      <td>5101.0</td>\n",
       "      <td>北京市第八十中学</td>\n",
       "      <td>2班</td>\n",
       "      <td>5.101190e+09</td>\n",
       "      <td>李俊豪</td>\n",
       "      <td>559</td>\n",
       "      <td>43</td>\n",
       "      <td>711.5</td>\n",
       "      <td>朝阳区2021-2022学年度高三第二学期二模考试学生成绩</td>\n",
       "      <td>NaN</td>\n",
       "    </tr>\n",
       "  </tbody>\n",
       "</table>\n",
       "</div>"
      ],
      "text/plain": [
       "         学校代码        学校  班级            考号   姓名    中考 Unnamed: 6      总分  \\\n",
       "2241   5108.0   朝阳外国语学校  1班  5.108190e+09  张欣睿   563          3   962.0   \n",
       "5187   5108.0   朝阳外国语学校  1班  5.108190e+09  项玢钰   551        104  1007.5   \n",
       "6004   5199.0      北京中学  1班  5.199190e+09  秦翔宇   NaN        NaN   700.0   \n",
       "9471   5199.0      北京中学  1班  5.199190e+09  秦翔宇   NaN        NaN   699.0   \n",
       "12910  5199.0      北京中学  1班  5.199190e+09  李静莹   NaN        NaN   684.5   \n",
       "16143  5199.0      北京中学  1班  5.199190e+09  秦翔宇   NaN        NaN   708.0   \n",
       "19463  5199.0      北京中学  1班  5.199190e+09  秦翔宇   NaN        NaN   705.0   \n",
       "23926  5101.0  北京市第八十中学  2班  5.101190e+09  李俊豪   559         43   711.5   \n",
       "\n",
       "                                数据来源  总分平均分  \n",
       "2241   朝阳区2019-2020学年度高一第一学期期末考试学生成绩    NaN  \n",
       "5187   朝阳区2019-2020学年度高一第二学期期末考试学生成绩    NaN  \n",
       "6004   朝阳区2020-2021学年度高二第一学期期末考试学生成绩    NaN  \n",
       "9471   朝阳区2020-2021学年度高二第二学期期末考试学生成绩    NaN  \n",
       "12910  朝阳区2021-2022学年度高三第一学期期中考试学生成绩    NaN  \n",
       "16143  朝阳区2021-2022学年度高三第一学期期末考试学生成绩    NaN  \n",
       "19463  朝阳区2021-2022学年度高三第二学期一模考试学生成绩    NaN  \n",
       "23926  朝阳区2021-2022学年度高三第二学期二模考试学生成绩    NaN  "
      ]
     },
     "execution_count": 75,
     "metadata": {},
     "output_type": "execute_result"
    }
   ],
   "source": [
    "# 找出各考试中状元所在中学信息\n",
    "idx = data_2019.groupby('数据来源')['总分'].transform('max') == data_2019['总分']\n",
    "data_2019[idx]"
   ]
  },
  {
   "cell_type": "code",
   "execution_count": null,
   "id": "44195aff",
   "metadata": {},
   "outputs": [],
   "source": []
  },
  {
   "cell_type": "code",
   "execution_count": null,
   "id": "9ca45984",
   "metadata": {},
   "outputs": [],
   "source": []
  },
  {
   "cell_type": "code",
   "execution_count": null,
   "id": "705fa8c5",
   "metadata": {},
   "outputs": [],
   "source": []
  },
  {
   "cell_type": "code",
   "execution_count": null,
   "id": "6cda9cff",
   "metadata": {},
   "outputs": [],
   "source": []
  }
 ],
 "metadata": {
  "kernelspec": {
   "display_name": "Python 3",
   "language": "python",
   "name": "python3"
  },
  "language_info": {
   "codemirror_mode": {
    "name": "ipython",
    "version": 3
   },
   "file_extension": ".py",
   "mimetype": "text/x-python",
   "name": "python",
   "nbconvert_exporter": "python",
   "pygments_lexer": "ipython3",
   "version": "3.8.8"
  },
  "toc": {
   "base_numbering": 1,
   "nav_menu": {},
   "number_sections": true,
   "sideBar": true,
   "skip_h1_title": false,
   "title_cell": "Table of Contents",
   "title_sidebar": "Contents",
   "toc_cell": false,
   "toc_position": {
    "height": "531.2px",
    "left": "33px",
    "top": "110.533px",
    "width": "272.15px"
   },
   "toc_section_display": true,
   "toc_window_display": true
  }
 },
 "nbformat": 4,
 "nbformat_minor": 5
}
